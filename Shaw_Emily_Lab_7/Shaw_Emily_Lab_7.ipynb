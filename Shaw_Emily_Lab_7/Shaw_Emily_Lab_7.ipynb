{
 "cells": [
  {
   "cell_type": "markdown",
   "id": "e17c2b97",
   "metadata": {},
   "source": [
    "# 1)"
   ]
  },
  {
   "cell_type": "code",
   "execution_count": 1,
   "id": "a39ef943",
   "metadata": {},
   "outputs": [],
   "source": [
    "import requests\n",
    "import json\n",
    "import csv\n",
    "import pandas as pd\n",
    "\n",
    "lat= \"42.0987\"\n",
    "long= \"-75.9180\"\n",
    "genius = requests.get(f\"https://api.weather.gov/points/{lat},{long}\")\n",
    "                     \n",
    "json_file = genius.json()\n",
    "\n",
    "forecast = json_file[\"properties\"]['forecast']\n",
    "\n",
    "newrequest = requests.get(forecast)\n",
    "new_request = newrequest.json()\n",
    "\n",
    "day = new_request[\"properties\"][\"periods\"][1][\"name\"]\n",
    "temp = new_request[\"properties\"][\"periods\"][1][\"temperature\"]\n",
    "tempunit = new_request[\"properties\"][\"periods\"][1][\"temperatureUnit\"]\n",
    "forecast = new_request[\"properties\"][\"periods\"][1][\"detailedForecast\"]"
   ]
  },
  {
   "cell_type": "code",
   "execution_count": 2,
   "id": "ca5f61fe",
   "metadata": {},
   "outputs": [],
   "source": [
    "csv_file = open(\"weather.csv\", \"w\", newline = \"\", encoding = \"utf-8\")\n",
    "csv_writer = csv.writer(csv_file)\n",
    "csv_writer.writerow([\"day\", \"temp (F)\", \"forecast\"])\n",
    "\n",
    "for i in range(0,13):\n",
    "    day = new_request[\"properties\"][\"periods\"][i][\"name\"]\n",
    "    temp = new_request[\"properties\"][\"periods\"][i][\"temperature\"]\n",
    "    forecast = new_request[\"properties\"][\"periods\"][i][\"detailedForecast\"]\n",
    "    \n",
    "    csv_writer.writerow([day, temp, forecast])\n",
    "csv_file.close()"
   ]
  },
  {
   "cell_type": "code",
   "execution_count": 3,
   "id": "aed93f5b",
   "metadata": {},
   "outputs": [
    {
     "data": {
      "image/png": "[encoded data removed]",
      "text/plain": [
       "<Figure size 1440x504 with 1 Axes>"
      ]
     },
     "metadata": {
      "needs_background": "light"
     },
     "output_type": "display_data"
    }
   ],
   "source": [
    "from matplotlib import pyplot as plt\n",
    "import numpy as np\n",
    "\n",
    "sheet = pd.read_csv(\"weather.csv\")\n",
    "\n",
    "df = pd.DataFrame(sheet)\n",
    "\n",
    "Day = df[\"day\"]\n",
    "Temp = df[\"temp (F)\"]\n",
    "\n",
    "fig = plt.figure(figsize = (20,7)) #bonus? I just increased the width of the figure size. Source: my brain/harp 150?\n",
    "plt.bar(Day, Temp)\n",
    "\n",
    "plt.xlabel(\"Day\")\n",
    "plt.ylabel(\"Temperature (F)\")\n",
    "plt.title(\"Weekly Forecast\")\n",
    "\n",
    "plt.show()"
   ]
  },
  {
   "cell_type": "markdown",
   "id": "a667ba2f",
   "metadata": {},
   "source": [
    "# 2)"
   ]
  },
  {
   "cell_type": "code",
   "execution_count": 39,
   "id": "ce2f982b",
   "metadata": {},
   "outputs": [],
   "source": [
    "call_1 = requests.get(f\"https://date.nager.at/api/v3/CountryInfo/US\")\n",
    "call_2 = requests.get(f\"https://date.nager.at/api/v3/AvailableCountries\")\n",
    "call_3 = requests.get(f\"https://date.nager.at/api/v3/LongWeekend/2022/US\")\n",
    "call_4 = requests.get(f\"https://date.nager.at/api/v3/PublicHolidays/2023/US\")\n",
    "call_5 = requests.get(f\"https://date.nager.at/api/v3/IsTodayPublicHoliday/US?offset=0\")\n",
    "call_6 = requests.get(f\"https://date.nager.at/api/v3/NextPublicHolidays/US\")\n",
    "call_7 = requests.get(f\"https://date.nager.at/api/v3/NextPublicHolidaysWorldwide\")"
   ]
  },
  {
   "cell_type": "code",
   "execution_count": 43,
   "id": "a712bf4b",
   "metadata": {},
   "outputs": [
    {
     "name": "stdout",
     "output_type": "stream",
     "text": [
      "{'commonName': 'United States', 'officialName': 'United States of America', 'countryCode': 'US', 'region': 'Americas', 'borders': [{'commonName': 'Canada', 'officialName': 'Canada', 'countryCode': 'CA', 'region': 'Americas', 'borders': None}, {'commonName': 'Mexico', 'officialName': 'United Mexican States', 'countryCode': 'MX', 'region': 'Americas', 'borders': None}]}\n",
      "\n",
      "[{'countryCode': 'AD', 'name': 'Andorra'}, {'countryCode': 'AL', 'name': 'Albania'}, {'countryCode': 'AR', 'name': 'Argentina'}, {'countryCode': 'AT', 'name': 'Austria'}, {'countryCode': 'AU', 'name': 'Australia'}, {'countryCode': 'AX', 'name': 'Åland Islands'}, {'countryCode': 'BA', 'name': 'Bosnia and Herzegovina'}, {'countryCode': 'BB', 'name': 'Barbados'}, {'countryCode': 'BE', 'name': 'Belgium'}, {'countryCode': 'BG', 'name': 'Bulgaria'}, {'countryCode': 'BJ', 'name': 'Benin'}, {'countryCode': 'BO', 'name': 'Bolivia'}, {'countryCode': 'BR', 'name': 'Brazil'}, {'countryCode': 'BS', 'name': 'Bahamas'}, {'countryCode': 'BW', 'name': 'Botswana'}, {'countryCode': 'BY', 'name': 'Belarus'}, {'countryCode': 'BZ', 'name': 'Belize'}, {'countryCode': 'CA', 'name': 'Canada'}, {'countryCode': 'CH', 'name': 'Switzerland'}, {'countryCode': 'CL', 'name': 'Chile'}, {'countryCode': 'CN', 'name': 'China'}, {'countryCode': 'CO', 'name': 'Colombia'}, {'countryCode': 'CR', 'name': 'Costa Rica'}, {'countryCode': 'CU', 'name': 'Cuba'}, {'countryCode': 'CY', 'name': 'Cyprus'}, {'countryCode': 'CZ', 'name': 'Czechia'}, {'countryCode': 'DE', 'name': 'Germany'}, {'countryCode': 'DK', 'name': 'Denmark'}, {'countryCode': 'DO', 'name': 'Dominican Republic'}, {'countryCode': 'EC', 'name': 'Ecuador'}, {'countryCode': 'EE', 'name': 'Estonia'}, {'countryCode': 'EG', 'name': 'Egypt'}, {'countryCode': 'ES', 'name': 'Spain'}, {'countryCode': 'FI', 'name': 'Finland'}, {'countryCode': 'FO', 'name': 'Faroe Islands'}, {'countryCode': 'FR', 'name': 'France'}, {'countryCode': 'GA', 'name': 'Gabon'}, {'countryCode': 'GB', 'name': 'United Kingdom'}, {'countryCode': 'GD', 'name': 'Grenada'}, {'countryCode': 'GG', 'name': 'Guernsey'}, {'countryCode': 'GI', 'name': 'Gibraltar'}, {'countryCode': 'GL', 'name': 'Greenland'}, {'countryCode': 'GM', 'name': 'Gambia'}, {'countryCode': 'GR', 'name': 'Greece'}, {'countryCode': 'GT', 'name': 'Guatemala'}, {'countryCode': 'GY', 'name': 'Guyana'}, {'countryCode': 'HN', 'name': 'Honduras'}, {'countryCode': 'HR', 'name': 'Croatia'}, {'countryCode': 'HT', 'name': 'Haiti'}, {'countryCode': 'HU', 'name': 'Hungary'}, {'countryCode': 'ID', 'name': 'Indonesia'}, {'countryCode': 'IE', 'name': 'Ireland'}, {'countryCode': 'IM', 'name': 'Isle of Man'}, {'countryCode': 'IS', 'name': 'Iceland'}, {'countryCode': 'IT', 'name': 'Italy'}, {'countryCode': 'JE', 'name': 'Jersey'}, {'countryCode': 'JM', 'name': 'Jamaica'}, {'countryCode': 'JP', 'name': 'Japan'}, {'countryCode': 'KR', 'name': 'South Korea'}, {'countryCode': 'LI', 'name': 'Liechtenstein'}, {'countryCode': 'LS', 'name': 'Lesotho'}, {'countryCode': 'LT', 'name': 'Lithuania'}, {'countryCode': 'LU', 'name': 'Luxembourg'}, {'countryCode': 'LV', 'name': 'Latvia'}, {'countryCode': 'MA', 'name': 'Morocco'}, {'countryCode': 'MC', 'name': 'Monaco'}, {'countryCode': 'MD', 'name': 'Moldova'}, {'countryCode': 'ME', 'name': 'Montenegro'}, {'countryCode': 'MG', 'name': 'Madagascar'}, {'countryCode': 'MK', 'name': 'North Macedonia'}, {'countryCode': 'MN', 'name': 'Mongolia'}, {'countryCode': 'MS', 'name': 'Montserrat'}, {'countryCode': 'MT', 'name': 'Malta'}, {'countryCode': 'MX', 'name': 'Mexico'}, {'countryCode': 'MZ', 'name': 'Mozambique'}, {'countryCode': 'NA', 'name': 'Namibia'}, {'countryCode': 'NE', 'name': 'Niger'}, {'countryCode': 'NG', 'name': 'Nigeria'}, {'countryCode': 'NI', 'name': 'Nicaragua'}, {'countryCode': 'NL', 'name': 'Netherlands'}, {'countryCode': 'NO', 'name': 'Norway'}, {'countryCode': 'NZ', 'name': 'New Zealand'}, {'countryCode': 'PA', 'name': 'Panama'}, {'countryCode': 'PE', 'name': 'Peru'}, {'countryCode': 'PG', 'name': 'Papua New Guinea'}, {'countryCode': 'PL', 'name': 'Poland'}, {'countryCode': 'PR', 'name': 'Puerto Rico'}, {'countryCode': 'PT', 'name': 'Portugal'}, {'countryCode': 'PY', 'name': 'Paraguay'}, {'countryCode': 'RO', 'name': 'Romania'}, {'countryCode': 'RS', 'name': 'Serbia'}, {'countryCode': 'RU', 'name': 'Russia'}, {'countryCode': 'SE', 'name': 'Sweden'}, {'countryCode': 'SG', 'name': 'Singapore'}, {'countryCode': 'SI', 'name': 'Slovenia'}, {'countryCode': 'SJ', 'name': 'Svalbard and Jan Mayen'}, {'countryCode': 'SK', 'name': 'Slovakia'}, {'countryCode': 'SM', 'name': 'San Marino'}, {'countryCode': 'SR', 'name': 'Suriname'}, {'countryCode': 'SV', 'name': 'El Salvador'}, {'countryCode': 'TN', 'name': 'Tunisia'}, {'countryCode': 'TR', 'name': 'Turkey'}, {'countryCode': 'UA', 'name': 'Ukraine'}, {'countryCode': 'US', 'name': 'United States'}, {'countryCode': 'UY', 'name': 'Uruguay'}, {'countryCode': 'VA', 'name': 'Vatican City'}, {'countryCode': 'VE', 'name': 'Venezuela'}, {'countryCode': 'VN', 'name': 'Vietnam'}, {'countryCode': 'ZA', 'name': 'South Africa'}, {'countryCode': 'ZW', 'name': 'Zimbabwe'}]\n",
      "\n",
      "[{'startDate': '2021-12-31', 'endDate': '2022-01-02', 'dayCount': 3, 'needBridgeDay': False}, {'startDate': '2022-01-15', 'endDate': '2022-01-17', 'dayCount': 3, 'needBridgeDay': False}, {'startDate': '2022-02-19', 'endDate': '2022-02-21', 'dayCount': 3, 'needBridgeDay': False}, {'startDate': '2022-05-28', 'endDate': '2022-05-30', 'dayCount': 3, 'needBridgeDay': False}, {'startDate': '2022-06-18', 'endDate': '2022-06-20', 'dayCount': 3, 'needBridgeDay': False}, {'startDate': '2022-07-02', 'endDate': '2022-07-04', 'dayCount': 3, 'needBridgeDay': False}, {'startDate': '2022-09-03', 'endDate': '2022-09-05', 'dayCount': 3, 'needBridgeDay': False}, {'startDate': '2022-11-11', 'endDate': '2022-11-13', 'dayCount': 3, 'needBridgeDay': False}, {'startDate': '2022-11-24', 'endDate': '2022-11-27', 'dayCount': 4, 'needBridgeDay': True}, {'startDate': '2022-12-24', 'endDate': '2022-12-26', 'dayCount': 3, 'needBridgeDay': False}]\n",
      "\n",
      "[{'date': '2023-01-02', 'localName': \"New Year's Day\", 'name': \"New Year's Day\", 'countryCode': 'US', 'fixed': False, 'global': True, 'counties': None, 'launchYear': None, 'types': ['Public']}, {'date': '2023-01-16', 'localName': 'Martin Luther King, Jr. Day', 'name': 'Martin Luther King, Jr. Day', 'countryCode': 'US', 'fixed': False, 'global': True, 'counties': None, 'launchYear': None, 'types': ['Public']}, {'date': '2023-02-20', 'localName': 'Presidents Day', 'name': \"Washington's Birthday\", 'countryCode': 'US', 'fixed': False, 'global': True, 'counties': None, 'launchYear': None, 'types': ['Public']}, {'date': '2023-04-07', 'localName': 'Good Friday', 'name': 'Good Friday', 'countryCode': 'US', 'fixed': False, 'global': False, 'counties': ['US-CT', 'US-DE', 'US-HI', 'US-IN', 'US-KY', 'US-LA', 'US-NC', 'US-ND', 'US-NJ', 'US-TN'], 'launchYear': None, 'types': ['Public']}, {'date': '2023-04-07', 'localName': 'Good Friday', 'name': 'Good Friday', 'countryCode': 'US', 'fixed': False, 'global': False, 'counties': ['US-TX'], 'launchYear': None, 'types': ['Optional']}, {'date': '2023-05-29', 'localName': 'Memorial Day', 'name': 'Memorial Day', 'countryCode': 'US', 'fixed': False, 'global': True, 'counties': None, 'launchYear': None, 'types': ['Public']}, {'date': '2023-06-19', 'localName': 'Juneteenth', 'name': 'Juneteenth', 'countryCode': 'US', 'fixed': False, 'global': True, 'counties': None, 'launchYear': 2021, 'types': ['Public']}, {'date': '2023-07-04', 'localName': 'Independence Day', 'name': 'Independence Day', 'countryCode': 'US', 'fixed': False, 'global': True, 'counties': None, 'launchYear': None, 'types': ['Public']}, {'date': '2023-09-04', 'localName': 'Labor Day', 'name': 'Labour Day', 'countryCode': 'US', 'fixed': False, 'global': True, 'counties': None, 'launchYear': None, 'types': ['Public']}, {'date': '2023-10-09', 'localName': 'Columbus Day', 'name': 'Columbus Day', 'countryCode': 'US', 'fixed': False, 'global': False, 'counties': ['US-AL', 'US-AZ', 'US-CO', 'US-CT', 'US-GA', 'US-ID', 'US-IL', 'US-IN', 'US-IA', 'US-KS', 'US-KY', 'US-LA', 'US-ME', 'US-MD', 'US-MA', 'US-MS', 'US-MO', 'US-MT', 'US-NE', 'US-NH', 'US-NJ', 'US-NM', 'US-NY', 'US-NC', 'US-OH', 'US-OK', 'US-PA', 'US-RI', 'US-SC', 'US-TN', 'US-UT', 'US-VA', 'US-WV'], 'launchYear': None, 'types': ['Public']}, {'date': '2023-11-10', 'localName': 'Veterans Day', 'name': 'Veterans Day', 'countryCode': 'US', 'fixed': False, 'global': True, 'counties': None, 'launchYear': None, 'types': ['Public']}, {'date': '2023-11-23', 'localName': 'Thanksgiving Day', 'name': 'Thanksgiving Day', 'countryCode': 'US', 'fixed': False, 'global': True, 'counties': None, 'launchYear': 1863, 'types': ['Public']}, {'date': '2023-12-25', 'localName': 'Christmas Day', 'name': 'Christmas Day', 'countryCode': 'US', 'fixed': False, 'global': True, 'counties': None, 'launchYear': None, 'types': ['Public']}]\n",
      "\n",
      "<Response [204]>\n",
      "\n",
      "[{'date': '2023-04-07', 'localName': 'Good Friday', 'name': 'Good Friday', 'countryCode': 'US', 'fixed': False, 'global': False, 'counties': ['US-CT', 'US-DE', 'US-HI', 'US-IN', 'US-KY', 'US-LA', 'US-NC', 'US-ND', 'US-NJ', 'US-TN'], 'launchYear': None, 'types': ['Public']}, {'date': '2023-05-29', 'localName': 'Memorial Day', 'name': 'Memorial Day', 'countryCode': 'US', 'fixed': False, 'global': True, 'counties': None, 'launchYear': None, 'types': ['Public']}, {'date': '2023-06-19', 'localName': 'Juneteenth', 'name': 'Juneteenth', 'countryCode': 'US', 'fixed': False, 'global': True, 'counties': None, 'launchYear': 2021, 'types': ['Public']}, {'date': '2023-07-04', 'localName': 'Independence Day', 'name': 'Independence Day', 'countryCode': 'US', 'fixed': False, 'global': True, 'counties': None, 'launchYear': None, 'types': ['Public']}, {'date': '2023-09-04', 'localName': 'Labor Day', 'name': 'Labour Day', 'countryCode': 'US', 'fixed': False, 'global': True, 'counties': None, 'launchYear': None, 'types': ['Public']}, {'date': '2023-10-09', 'localName': 'Columbus Day', 'name': 'Columbus Day', 'countryCode': 'US', 'fixed': False, 'global': False, 'counties': ['US-AL', 'US-AZ', 'US-CO', 'US-CT', 'US-GA', 'US-ID', 'US-IL', 'US-IN', 'US-IA', 'US-KS', 'US-KY', 'US-LA', 'US-ME', 'US-MD', 'US-MA', 'US-MS', 'US-MO', 'US-MT', 'US-NE', 'US-NH', 'US-NJ', 'US-NM', 'US-NY', 'US-NC', 'US-OH', 'US-OK', 'US-PA', 'US-RI', 'US-SC', 'US-TN', 'US-UT', 'US-VA', 'US-WV'], 'launchYear': None, 'types': ['Public']}, {'date': '2023-11-10', 'localName': 'Veterans Day', 'name': 'Veterans Day', 'countryCode': 'US', 'fixed': False, 'global': True, 'counties': None, 'launchYear': None, 'types': ['Public']}, {'date': '2023-11-23', 'localName': 'Thanksgiving Day', 'name': 'Thanksgiving Day', 'countryCode': 'US', 'fixed': False, 'global': True, 'counties': None, 'launchYear': 1863, 'types': ['Public']}, {'date': '2023-12-25', 'localName': 'Christmas Day', 'name': 'Christmas Day', 'countryCode': 'US', 'fixed': False, 'global': True, 'counties': None, 'launchYear': None, 'types': ['Public']}, {'date': '2024-01-01', 'localName': \"New Year's Day\", 'name': \"New Year's Day\", 'countryCode': 'US', 'fixed': False, 'global': True, 'counties': None, 'launchYear': None, 'types': ['Public']}, {'date': '2024-01-15', 'localName': 'Martin Luther King, Jr. Day', 'name': 'Martin Luther King, Jr. Day', 'countryCode': 'US', 'fixed': False, 'global': True, 'counties': None, 'launchYear': None, 'types': ['Public']}, {'date': '2024-02-19', 'localName': 'Presidents Day', 'name': \"Washington's Birthday\", 'countryCode': 'US', 'fixed': False, 'global': True, 'counties': None, 'launchYear': None, 'types': ['Public']}]\n",
      "\n",
      "[{'date': '2023-03-20', 'localName': 'Día de San José', 'name': \"Saint Joseph's Day\", 'countryCode': 'CO', 'fixed': False, 'global': True, 'counties': None, 'launchYear': None, 'types': ['Public']}, {'date': '2023-03-20', 'localName': 'San José', 'name': \"St. Joseph's Day\", 'countryCode': 'ES', 'fixed': True, 'global': False, 'counties': ['ES-MD'], 'launchYear': None, 'types': ['Public']}, {'date': '2023-03-20', 'localName': 'Natalicio de Benito Juárez', 'name': \"Benito Juárez's birthday\", 'countryCode': 'MX', 'fixed': False, 'global': True, 'counties': None, 'launchYear': None, 'types': ['Public']}, {'date': '2023-03-20', 'localName': 'Otago Anniversary Day', 'name': 'Otago Anniversary Day', 'countryCode': 'NZ', 'fixed': False, 'global': False, 'counties': ['NZ-OTA'], 'launchYear': None, 'types': ['Public']}, {'date': '2023-03-20', 'localName': 'Independence Day', 'name': 'Independence Day', 'countryCode': 'TN', 'fixed': True, 'global': True, 'counties': None, 'launchYear': None, 'types': ['Public']}, {'date': '2023-03-21', 'localName': '春分の日', 'name': 'Vernal Equinox Day', 'countryCode': 'JP', 'fixed': False, 'global': True, 'counties': None, 'launchYear': None, 'types': ['Public']}, {'date': '2023-03-21', 'localName': 'Independence Day', 'name': 'Independence Day', 'countryCode': 'NA', 'fixed': True, 'global': True, 'counties': None, 'launchYear': None, 'types': ['Public']}, {'date': '2023-03-21', 'localName': 'Día del abolición de la esclavitud', 'name': 'Slavery Abolition Anniversary', 'countryCode': 'VE', 'fixed': True, 'global': True, 'counties': None, 'launchYear': None, 'types': ['Public']}, {'date': '2023-03-21', 'localName': 'Human Rights Day', 'name': 'Human Rights Day', 'countryCode': 'ZA', 'fixed': False, 'global': True, 'counties': None, 'launchYear': 1990, 'types': ['Public']}, {'date': '2023-03-22', 'localName': 'Dita e Sulltan Nevruzit', 'name': 'Nowruz', 'countryCode': 'AL', 'fixed': True, 'global': True, 'counties': None, 'launchYear': None, 'types': ['Public']}, {'date': '2023-03-22', 'localName': 'Día de la Abolición de Esclavitud', 'name': 'Emancipation Day', 'countryCode': 'PR', 'fixed': True, 'global': True, 'counties': None, 'launchYear': None, 'types': ['Public']}, {'date': '2023-03-24', 'localName': 'Día Nacional de la Memoria por la Verdad y la Justicia', 'name': 'Day of Remembrance for Truth and Justice', 'countryCode': 'AR', 'fixed': True, 'global': True, 'counties': None, 'launchYear': None, 'types': ['Public']}, {'date': '2023-03-25', 'localName': 'Επέτειος Ελληνικής Ανεξαρτησίας', 'name': 'Greek Independence Day', 'countryCode': 'CY', 'fixed': True, 'global': True, 'counties': None, 'launchYear': None, 'types': ['Public']}, {'date': '2023-03-25', 'localName': 'Ευαγγελισμός της Θεοτόκου', 'name': 'Annunciation', 'countryCode': 'GR', 'fixed': True, 'global': True, 'counties': None, 'launchYear': None, 'types': ['Public']}, {'date': '2023-03-25', 'localName': 'Εικοστή Πέμπτη Μαρτίου', 'name': 'Independence Day', 'countryCode': 'GR', 'fixed': True, 'global': True, 'counties': None, 'launchYear': None, 'types': ['Public']}, {'date': '2023-03-25', 'localName': 'Anniversary of the Arengo', 'name': 'Anniversary of the Arengo', 'countryCode': 'SM', 'fixed': True, 'global': True, 'counties': None, 'launchYear': None, 'types': ['Public']}]\n",
      "\n"
     ]
    }
   ],
   "source": [
    "json_1 = call_1.json() # gives country information for a given country\n",
    "print(json_1)\n",
    "print(\"\")\n",
    "\n",
    "json_2 = call_2.json() # gives a list of dictionaries containing the country code and country of each available country\n",
    "print(json_2)\n",
    "print(\"\")\n",
    "\n",
    "json_3 = call_3.json() # gives a list of long weekends for a given country\n",
    "print(json_3)\n",
    "print(\"\")\n",
    "\n",
    "json_4 = call_4.json() # lists each public holiday with its info for a given country and year\n",
    "print(json_4)\n",
    "print(\"\")\n",
    "\n",
    "print(call_5) #gives a response of 200 (is public holiday today), 204 (not public holiday today), 400 (Validation failure), or 404 (CountryCode is unknown)\n",
    "print(\"\")\n",
    "\n",
    "json_6 = call_6.json() # shows a list of upcoming holidays and info and includes states where the holiday is not a public holiday\n",
    "print(json_6)\n",
    "print(\"\")\n",
    "\n",
    "json_7 = call_7.json() # shows a list of every upcoming holiday for the countries with available data\n",
    "print(json_7)\n",
    "print(\"\")"
   ]
  },
  {
   "cell_type": "markdown",
   "id": "4db39230",
   "metadata": {},
   "source": [
    "# 3)"
   ]
  },
  {
   "cell_type": "code",
   "execution_count": 4,
   "id": "7abc4c5b",
   "metadata": {},
   "outputs": [
    {
     "data": {
      "text/plain": [
       "[{'date': '2023-01-01',\n",
       "  'localName': 'Capodanno',\n",
       "  'name': \"New Year's Day\",\n",
       "  'countryCode': 'IT',\n",
       "  'fixed': True,\n",
       "  'global': True,\n",
       "  'counties': None,\n",
       "  'launchYear': 1967,\n",
       "  'types': ['Public']},\n",
       " {'date': '2023-01-06',\n",
       "  'localName': 'Epifania',\n",
       "  'name': 'Epiphany',\n",
       "  'countryCode': 'IT',\n",
       "  'fixed': True,\n",
       "  'global': True,\n",
       "  'counties': None,\n",
       "  'launchYear': None,\n",
       "  'types': ['Public']},\n",
       " {'date': '2023-04-09',\n",
       "  'localName': 'Pasqua',\n",
       "  'name': 'Easter Sunday',\n",
       "  'countryCode': 'IT',\n",
       "  'fixed': False,\n",
       "  'global': True,\n",
       "  'counties': None,\n",
       "  'launchYear': None,\n",
       "  'types': ['Public']},\n",
       " {'date': '2023-04-10',\n",
       "  'localName': \"Lunedì dell'Angelo\",\n",
       "  'name': 'Easter Monday',\n",
       "  'countryCode': 'IT',\n",
       "  'fixed': False,\n",
       "  'global': True,\n",
       "  'counties': None,\n",
       "  'launchYear': 1642,\n",
       "  'types': ['Public']},\n",
       " {'date': '2023-04-25',\n",
       "  'localName': 'Festa della Liberazione',\n",
       "  'name': 'Liberation Day',\n",
       "  'countryCode': 'IT',\n",
       "  'fixed': True,\n",
       "  'global': True,\n",
       "  'counties': None,\n",
       "  'launchYear': None,\n",
       "  'types': ['Public']},\n",
       " {'date': '2023-05-01',\n",
       "  'localName': 'Festa del Lavoro',\n",
       "  'name': 'International Workers Day',\n",
       "  'countryCode': 'IT',\n",
       "  'fixed': True,\n",
       "  'global': True,\n",
       "  'counties': None,\n",
       "  'launchYear': None,\n",
       "  'types': ['Public']},\n",
       " {'date': '2023-06-02',\n",
       "  'localName': 'Festa della Repubblica',\n",
       "  'name': 'Republic Day',\n",
       "  'countryCode': 'IT',\n",
       "  'fixed': True,\n",
       "  'global': True,\n",
       "  'counties': None,\n",
       "  'launchYear': None,\n",
       "  'types': ['Public']},\n",
       " {'date': '2023-08-15',\n",
       "  'localName': 'Ferragosto o Assunzione',\n",
       "  'name': 'Assumption Day',\n",
       "  'countryCode': 'IT',\n",
       "  'fixed': True,\n",
       "  'global': True,\n",
       "  'counties': None,\n",
       "  'launchYear': None,\n",
       "  'types': ['Public']},\n",
       " {'date': '2023-11-01',\n",
       "  'localName': 'Tutti i santi',\n",
       "  'name': 'All Saints Day',\n",
       "  'countryCode': 'IT',\n",
       "  'fixed': True,\n",
       "  'global': True,\n",
       "  'counties': None,\n",
       "  'launchYear': None,\n",
       "  'types': ['Public']},\n",
       " {'date': '2023-12-08',\n",
       "  'localName': 'Immacolata Concezione',\n",
       "  'name': 'Immaculate Conception',\n",
       "  'countryCode': 'IT',\n",
       "  'fixed': True,\n",
       "  'global': True,\n",
       "  'counties': None,\n",
       "  'launchYear': None,\n",
       "  'types': ['Public']},\n",
       " {'date': '2023-12-25',\n",
       "  'localName': 'Natale',\n",
       "  'name': 'Christmas Day',\n",
       "  'countryCode': 'IT',\n",
       "  'fixed': True,\n",
       "  'global': True,\n",
       "  'counties': None,\n",
       "  'launchYear': None,\n",
       "  'types': ['Public']},\n",
       " {'date': '2023-12-26',\n",
       "  'localName': 'Santo Stefano',\n",
       "  'name': \"St. Stephen's Day\",\n",
       "  'countryCode': 'IT',\n",
       "  'fixed': True,\n",
       "  'global': True,\n",
       "  'counties': None,\n",
       "  'launchYear': None,\n",
       "  'types': ['Public']}]"
      ]
     },
     "execution_count": 4,
     "metadata": {},
     "output_type": "execute_result"
    }
   ],
   "source": [
    "country_code = \"IT\"\n",
    "country_request = requests.get(f\"https://date.nager.at/api/v3/publicholidays/2023/{country_code}\")\n",
    "json_file = country_request.json()\n",
    "json_file"
   ]
  },
  {
   "cell_type": "code",
   "execution_count": 18,
   "id": "41b028a1",
   "metadata": {
    "scrolled": true
   },
   "outputs": [
    {
     "name": "stdout",
     "output_type": "stream",
     "text": [
      "12\n",
      "16\n",
      "13\n",
      "16\n",
      "30\n",
      "16\n",
      "7\n",
      "6\n",
      "15\n",
      "19\n"
     ]
    }
   ],
   "source": [
    "counter = []\n",
    "def holiday_counter(country):\n",
    "    country_request = requests.get(f\"https://date.nager.at/api/v3/publicholidays/2023/{country}\")\n",
    "    json_file = country_request.json()\n",
    "    for i in json_file:\n",
    "        counter.append(i)\n",
    "        length = len(counter)\n",
    "    return length\n",
    "    #tried to add counter.clear() in this line\n",
    "    \n",
    "italy = holiday_counter(\"IT\")\n",
    "counter.clear() #tried to add it to the end of the function, but the values for each country kept adding to the previous one even after clearing, idk why\n",
    "\n",
    "sweden = holiday_counter(\"SE\")\n",
    "counter.clear()\n",
    "\n",
    "united_states = holiday_counter(\"US\")\n",
    "counter.clear()\n",
    "\n",
    "argentina = holiday_counter(\"AR\")\n",
    "counter.clear()\n",
    "\n",
    "canada = holiday_counter(\"CA\")\n",
    "counter.clear()\n",
    "\n",
    "chile = holiday_counter(\"CL\")\n",
    "counter.clear()\n",
    "\n",
    "china = holiday_counter(\"CN\")\n",
    "counter.clear()\n",
    "\n",
    "egypt = holiday_counter(\"EG\")\n",
    "counter.clear()\n",
    "\n",
    "greece = holiday_counter(\"GR\")\n",
    "counter.clear()\n",
    "\n",
    "switzerland = holiday_counter(\"CH\")\n",
    "counter.clear()\n",
    "\n",
    "countries = [italy, sweden, united_states, argentina, canada, chile, china, egypt, greece, switzerland]\n",
    "for i in countries:\n",
    "    print(i)"
   ]
  },
  {
   "cell_type": "markdown",
   "id": "a278fe95",
   "metadata": {},
   "source": [
    "# Bonus"
   ]
  },
  {
   "cell_type": "code",
   "execution_count": 22,
   "id": "0bebe514",
   "metadata": {},
   "outputs": [
    {
     "name": "stdout",
     "output_type": "stream",
     "text": [
      "[12, 16, 13, 16, 30, 16, 7, 6, 15, 19]\n"
     ]
    }
   ],
   "source": [
    "y_values = []\n",
    "for i in countries:\n",
    "    y_values.append(i)\n",
    "    \n",
    "print(y_values)"
   ]
  },
  {
   "cell_type": "code",
   "execution_count": 24,
   "id": "e8e186a4",
   "metadata": {},
   "outputs": [],
   "source": [
    "x_values = [\"Italy\", \"Sweden\", \"United States\", \"Argentina\", \"Canada\", \"Chile\", \"China\", \"Egypt\", \"Greece\", \"Switzerland\"]\n"
   ]
  },
  {
   "cell_type": "code",
   "execution_count": 27,
   "id": "30fd43a5",
   "metadata": {},
   "outputs": [
    {
     "data": {
      "image/png": "[encoded data removed]",
      "text/plain": [
       "<Figure size 1440x504 with 1 Axes>"
      ]
     },
     "metadata": {
      "needs_background": "light"
     },
     "output_type": "display_data"
    }
   ],
   "source": [
    "from matplotlib import pyplot as plt\n",
    "import numpy as np\n",
    "\n",
    "fig = plt.figure(figsize = (20,7)) \n",
    "plt.bar(x_values, y_values)\n",
    "\n",
    "plt.xlabel(\"Countries\")\n",
    "plt.ylabel(\"Number of Holidays\")\n",
    "plt.title(\"Number of Holidays Per Country\")\n",
    "\n",
    "plt.show()"
   ]
  }
 ],
 "metadata": {
  "kernelspec": {
   "display_name": "Python 3 (ipykernel)",
   "language": "python",
   "name": "python3"
  },
  "language_info": {
   "codemirror_mode": {
    "name": "ipython",
    "version": 3
   },
   "file_extension": ".py",
   "mimetype": "text/x-python",
   "name": "python",
   "nbconvert_exporter": "python",
   "pygments_lexer": "ipython3",
   "version": "3.9.12"
  }
 },
 "nbformat": 4,
 "nbformat_minor": 5
}
