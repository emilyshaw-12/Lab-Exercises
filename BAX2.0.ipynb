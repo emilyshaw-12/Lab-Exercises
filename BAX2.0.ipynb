{
 "cells": [
  {
   "cell_type": "markdown",
   "id": "03ad21e3",
   "metadata": {},
   "source": [
    "# BAXTER 2.0"
   ]
  },
  {
   "cell_type": "code",
   "execution_count": 1,
   "id": "91152422",
   "metadata": {},
   "outputs": [],
   "source": [
    "import turtle\n",
    "turtle.getscreen()\n",
    "t = turtle.Turtle()\n",
    "turtle.bgcolor(\"green\")\n",
    "\n",
    "t.pen(pencolor=\"black\", fillcolor=\"gray\", pensize=10, speed=10)\n",
    "turtle.title(\"BAX 2.0\")"
   ]
  },
  {
   "cell_type": "code",
   "execution_count": 2,
   "id": "6125646b",
   "metadata": {},
   "outputs": [],
   "source": [
    "t.penup() #ears\n",
    "t.goto(-150,100)\n",
    "t.pendown()\n",
    "t.begin_fill()\n",
    "t.lt(100)\n",
    "for i in range (0,3): #loop to draw a triangle\n",
    "    t.fd(125)\n",
    "    t.rt(120)\n",
    "t.end_fill()\n",
    "t.penup()\n",
    "t.goto(150,100)\n",
    "t.pendown()\n",
    "t.rt(20)\n",
    "t.begin_fill()\n",
    "for i in range (0,3):\n",
    "    t.fd(125)\n",
    "    t.lt(120)\n",
    "t.end_fill()"
   ]
  },
  {
   "cell_type": "code",
   "execution_count": 3,
   "id": "e515c4b1",
   "metadata": {},
   "outputs": [],
   "source": [
    "t.penup() #head\n",
    "t.goto(0,-100)\n",
    "t.pendown()\n",
    "t.begin_fill()\n",
    "t.rt(80)\n",
    "t.circle(150)\n",
    "t.end_fill()"
   ]
  },
  {
   "cell_type": "code",
   "execution_count": 4,
   "id": "116bda26",
   "metadata": {},
   "outputs": [],
   "source": [
    "t.fillcolor(\"green\") #eyes\n",
    "for i in range (0,2): #changes the coordinate that the circle starts at for 2 eyes\n",
    "    if i % 2 == 0:\n",
    "        t.penup()\n",
    "        t.goto(-75,70)\n",
    "    else:\n",
    "        t.penup()\n",
    "        t.goto(75,70)\n",
    "    t.pendown()\n",
    "    t.begin_fill()\n",
    "    t.circle(20)\n",
    "    t.end_fill()\n"
   ]
  },
  {
   "cell_type": "code",
   "execution_count": 5,
   "id": "459ed7c3",
   "metadata": {},
   "outputs": [],
   "source": [
    "t.fillcolor(\"white\") #snout\n",
    "t.penup()\n",
    "t.goto(0,-75)\n",
    "t.pendown()\n",
    "t.begin_fill()\n",
    "t.circle(60)\n",
    "t.end_fill()"
   ]
  },
  {
   "cell_type": "code",
   "execution_count": 6,
   "id": "e2c5f24a",
   "metadata": {},
   "outputs": [],
   "source": [
    "t.fillcolor(\"black\") #nose\n",
    "t.penup()\n",
    "t.home()\n",
    "t.pendown()\n",
    "t.begin_fill()\n",
    "t.lt(60)\n",
    "for i in range (0,3):\n",
    "    t.fd(30)\n",
    "    t.lt(120)\n",
    "t.end_fill()"
   ]
  },
  {
   "cell_type": "code",
   "execution_count": 7,
   "id": "986ae16d",
   "metadata": {},
   "outputs": [],
   "source": [
    "t.rt(50) #whiskers\n",
    "for i in range (0,3):\n",
    "    t.fd(50)\n",
    "    t.bk(50)\n",
    "    t.rt(20)\n",
    "t.rt(130)\n",
    "for i in range (0,3):\n",
    "    t.fd(50)\n",
    "    t.bk(50)\n",
    "    t.lt(20)"
   ]
  },
  {
   "cell_type": "code",
   "execution_count": 8,
   "id": "b1e22fb5",
   "metadata": {},
   "outputs": [],
   "source": [
    "t.lt(30) #mouth\n",
    "t.penup()\n",
    "t.goto(-12,-15)\n",
    "t.pendown()\n",
    "t.circle(15,180)"
   ]
  }
 ],
 "metadata": {
  "kernelspec": {
   "display_name": "Python 3 (ipykernel)",
   "language": "python",
   "name": "python3"
  },
  "language_info": {
   "codemirror_mode": {
    "name": "ipython",
    "version": 3
   },
   "file_extension": ".py",
   "mimetype": "text/x-python",
   "name": "python",
   "nbconvert_exporter": "python",
   "pygments_lexer": "ipython3",
   "version": "3.9.12"
  }
 },
 "nbformat": 4,
 "nbformat_minor": 5
}
