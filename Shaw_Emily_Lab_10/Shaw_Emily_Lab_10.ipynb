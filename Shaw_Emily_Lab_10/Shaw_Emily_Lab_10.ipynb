{
 "cells": [
  {
   "cell_type": "markdown",
   "id": "f6d22e4e",
   "metadata": {},
   "source": [
    "# 1)"
   ]
  },
  {
   "cell_type": "code",
   "execution_count": 1,
   "id": "6066dab3",
   "metadata": {},
   "outputs": [],
   "source": [
    "import requests\n",
    "from tkinter import *"
   ]
  },
  {
   "cell_type": "code",
   "execution_count": 2,
   "id": "bab4f5c5",
   "metadata": {
    "scrolled": true
   },
   "outputs": [],
   "source": [
    "authors = []\n",
    "quoteslist = []\n",
    "quotedict = {}\n",
    "\n",
    "def authorlist():\n",
    "    \n",
    "    for i in range(0,20):\n",
    "        url = \"https://api.quotable.io/random\"\n",
    "        quotes = requests.get(url).json()\n",
    "        authorpick = quotes[\"author\"]\n",
    "        if authorpick not in authors:\n",
    "            authors.append(authorpick)\n",
    "            \n",
    "        quotepick = quotes[\"content\"]\n",
    "        if quotepick not in quoteslist:\n",
    "            quoteslist.append(quotepick)\n",
    "    \n",
    "    quotedict = dict(zip(authors, quoteslist))\n",
    "    return quotedict\n",
    "\n",
    "quotedict = authorlist()"
   ]
  },
  {
   "cell_type": "code",
   "execution_count": 3,
   "id": "6ba93b5f",
   "metadata": {},
   "outputs": [],
   "source": [
    "root = Tk()\n",
    "root.title(\"Quotes by person\")\n",
    "root.geometry(\"350x350\")\n",
    "value = StringVar()\n",
    "value.set(\"Select a person\")"
   ]
  },
  {
   "cell_type": "code",
   "execution_count": 4,
   "id": "e16acde3",
   "metadata": {},
   "outputs": [],
   "source": [
    "def showquote():\n",
    "    authorchoice = value.get()\n",
    "\n",
    "    title = Label(root, font = 25, text= f\"Here is an inspirational quote from {authorchoice}!\").grid(row=2, column=2)\n",
    "\n",
    "    label = Label(root, bg = \"pink\", text = quotedict[authorchoice],wraplength =300).grid(row=3, column=2)\n",
    "    \n",
    "dropdown = OptionMenu(root, value, *authors)\n",
    "choose_button = Button(root, text=\"Click to choose\", command = showquote)\n",
    "\n",
    "dropdown.grid(row=0, column=2)\n",
    "choose_button.grid(row=1, column=2)\n",
    "\n",
    "root.mainloop()"
   ]
  },
  {
   "cell_type": "markdown",
   "id": "5d80f5fd",
   "metadata": {},
   "source": [
    "# 2)"
   ]
  },
  {
   "cell_type": "code",
   "execution_count": 5,
   "id": "12ef1d13",
   "metadata": {},
   "outputs": [],
   "source": [
    "import requests\n",
    "import tkinter as tk\n",
    "from tkinter import *\n",
    "from tkinter import ttk\n",
    "import json"
   ]
  },
  {
   "cell_type": "code",
   "execution_count": 6,
   "id": "2e871012",
   "metadata": {},
   "outputs": [],
   "source": [
    "Binghamton = {\"42.0987\":\"-75.9180\"}\n",
    "Syracuse = {\"43.0481\":\"-76.1474\"}\n",
    "Albany = {\"42.6526\":\"-73.7562\"}\n",
    "Queens = {\"40.7282\":\"-73.7949\"}\n",
    "Rochester = {\"43.1566\":\"-77.6088\"}\n",
    "Buffalo = {\"42.8864\":\"-78.8784\"}\n",
    "\n",
    "daylist=[]\n",
    "templist=[]\n",
    "forecastlist=[]\n",
    "combinedlist=[]\n",
    "\n",
    "def weatherlists():\n",
    "    coordinate = value.get()\n",
    "    weather = requests.get(f\"https://api.weather.gov/points/{coordinate[14:21]},{coordinate[25:33]}\")            \n",
    "    json_file = weather.json()\n",
    "    forecast = json_file['properties']['forecast']\n",
    "    newrequest = requests.get(forecast)\n",
    "    new_request = newrequest.json()\n",
    "    for i in range(0,14):\n",
    "        day = new_request[\"properties\"][\"periods\"][i][\"name\"]\n",
    "        if day == \"Tuesday\" or day == \"Wednesday\" or day == \"Thursday\" or day == \"Friday\" or day == \"Saturday\" or day == \"Sunday\" or day == \"Monday\" or day == \"Today\" or day == \"Tonight\":\n",
    "            daylist.append(day)\n",
    "        temp = str(new_request[\"properties\"][\"periods\"][i][\"temperature\"])\n",
    "        if temp not in templist:\n",
    "            templist.append(temp)\n",
    "        fore = new_request[\"properties\"][\"periods\"][i][\"detailedForecast\"]\n",
    "        forecastlist.append(fore)\n",
    "    for i in templist:\n",
    "        for j in forecastlist:\n",
    "            combined = i + \"°F - \" + j\n",
    "            combinedlist.append(combined)\n",
    "    dict2 = dict(zip(daylist, combinedlist))\n",
    "    return dict2\n",
    "\n",
    "def showforecast():\n",
    "    title = Label(frame, font = 25, text= \"Here is the 7 day forecast\")\n",
    "    title.pack()\n",
    "    for i in dict2:\n",
    "        label = Label(frame, bg = \"lightblue\", text = i,justify = \"left\")\n",
    "        label.pack()\n",
    "        label2 = Label(frame, text = dict2[i][0:4],justify = \"left\")\n",
    "        label2.pack()\n",
    "        label3 = Label(frame, text = dict2[i][6:], wraplength = 450,justify = \"left\")\n",
    "        label3.pack()\n"
   ]
  },
  {
   "cell_type": "code",
   "execution_count": null,
   "id": "bce4943a",
   "metadata": {},
   "outputs": [],
   "source": [
    "root =tk.Tk()\n",
    "root.title(\"7 Day Forecast\")\n",
    "root.geometry('550x750')\n",
    "\n",
    "frame=Frame(root,width=300,height=300)\n",
    "frame.pack(expand=True, fill=BOTH)\n",
    "\n",
    "title1 = Label(frame, text = \"Select a place or enter coordinates: \").pack()\n",
    "\n",
    "value = StringVar()\n",
    "value.set(\"Choose a place\")\n",
    "placepick = ttk.Combobox(frame, width = 27, textvariable = value) #new widget\n",
    "\n",
    "placepick['values'] = (f\"Binghamton- {Binghamton}\", f\"Syracuse- {Syracuse}\", f\"Albany- {Albany}\", f\"Queens- {Queens}\", f\"Rochester- {Rochester}\", f\"Buffalo- {Buffalo}\")\n",
    "placepick.pack()\n",
    "placepick.current(0)\n",
    "\n",
    "choose_button = Button(frame, text=\"Click to choose\", command=weatherlists)\n",
    "choose_button.pack()\n",
    "\n",
    "forecast_button = Button(frame, text=\"Click to generate 7 day forecast\", command=showforecast)\n",
    "forecast_button.pack()\n",
    "\n",
    "dict2 = weatherlists()\n",
    "\n",
    "root.mainloop()\n"
   ]
  }
 ],
 "metadata": {
  "kernelspec": {
   "display_name": "Python 3 (ipykernel)",
   "language": "python",
   "name": "python3"
  },
  "language_info": {
   "codemirror_mode": {
    "name": "ipython",
    "version": 3
   },
   "file_extension": ".py",
   "mimetype": "text/x-python",
   "name": "python",
   "nbconvert_exporter": "python",
   "pygments_lexer": "ipython3",
   "version": "3.9.12"
  }
 },
 "nbformat": 4,
 "nbformat_minor": 5
}
